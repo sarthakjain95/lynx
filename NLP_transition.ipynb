{
 "cells": [
  {
   "cell_type": "code",
   "execution_count": 1,
   "metadata": {},
   "outputs": [],
   "source": [
    "import speech_recognition as sr\n",
    "r = sr.Recognizer()"
   ]
  },
  {
   "cell_type": "code",
   "execution_count": 3,
   "metadata": {},
   "outputs": [
    {
     "name": "stdout",
     "output_type": "stream",
     "text": [
      "speak anything\n",
      "you said: hello how are you\n"
     ]
    }
   ],
   "source": [
    "with sr.Microphone() as source:\n",
    "    print('speak anything')\n",
    "    audio = r.listen(source) \n",
    "    \n",
    "    try:\n",
    "\n",
    "        text = r.recognize_google(audio)\n",
    "        print('you said: {}'.format(text))\n",
    "\n",
    "    except:\n",
    "        print('sorry could not recognize your voice')\n"
   ]
  },
  {
   "cell_type": "code",
   "execution_count": 5,
   "metadata": {},
   "outputs": [
    {
     "data": {
      "text/plain": [
       "0"
      ]
     },
     "execution_count": 5,
     "metadata": {},
     "output_type": "execute_result"
    }
   ],
   "source": [
    "from gtts import gTTS\n",
    "import os\n",
    "\n",
    "mytext=\"text to speech using python\"\n",
    "\n",
    "language= 'en'\n",
    "\n",
    "output=gTTS(text=mytext,lang = language,slow = False)\n",
    "\n",
    "output.save(\"output.mp3\")\n",
    "\n",
    "os.system(\"start output.mp3\")"
   ]
  },
  {
   "cell_type": "code",
   "execution_count": null,
   "metadata": {},
   "outputs": [],
   "source": []
  }
 ],
 "metadata": {
  "interpreter": {
   "hash": "6b5278f08f00bb986519de1854b413b062e63ee69c14a561a45795af76b64930"
  },
  "kernelspec": {
   "display_name": "Python 3.7.4 64-bit",
   "language": "python",
   "name": "python3"
  },
  "language_info": {
   "codemirror_mode": {
    "name": "ipython",
    "version": 3
   },
   "file_extension": ".py",
   "mimetype": "text/x-python",
   "name": "python",
   "nbconvert_exporter": "python",
   "pygments_lexer": "ipython3",
   "version": "3.7.4"
  },
  "orig_nbformat": 4
 },
 "nbformat": 4,
 "nbformat_minor": 2
}
